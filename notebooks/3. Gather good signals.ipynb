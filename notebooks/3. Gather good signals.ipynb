{
 "cells": [
  {
   "cell_type": "code",
   "execution_count": 29,
   "metadata": {},
   "outputs": [],
   "source": [
    "import os\n",
    "import shutil\n",
    "import pandas as pd\n",
    "import glob"
   ]
  },
  {
   "cell_type": "code",
   "execution_count": 30,
   "metadata": {},
   "outputs": [
    {
     "data": {
      "text/plain": [
       "'/mnt'"
      ]
     },
     "execution_count": 30,
     "metadata": {},
     "output_type": "execute_result"
    }
   ],
   "source": [
    "os.chdir(\"/mnt\")\n",
    "ddir = f\"/mnt/c/Users/youzh/Documents/My documents(not synced)/sP_Workflow\"\n",
    "data_sac = f\"{ddir}/Download/SAC\"\n",
    "wdir = f\"{ddir}/Download/Verified\"\n",
    "jdir = f\"{ddir}/judge\"\n",
    "wsl_dir = f\"/home/youzhi/python-projects/sp-project\"\n",
    "os.getcwd()"
   ]
  },
  {
   "attachments": {},
   "cell_type": "markdown",
   "metadata": {},
   "source": [
    "# Read saved good signals"
   ]
  },
  {
   "cell_type": "code",
   "execution_count": 31,
   "metadata": {},
   "outputs": [],
   "source": [
    "ver_dir = wdir\n",
    "os.chdir(wdir)\n",
    "df = pd.read_csv(f\"{ver_dir}/verified.txt\", names=[\"evt_id\",\"sta\", \"Tp\", \n",
    "                                                   \"p_len\",\"TsPmP\", \"sPmP_len\",\n",
    "                                                   \"TsPn\", \"sPn_len\", \"quality\", \"evt_num\"], header = None)"
   ]
  },
  {
   "cell_type": "code",
   "execution_count": 32,
   "metadata": {},
   "outputs": [
    {
     "data": {
      "text/html": [
       "<div>\n",
       "<style scoped>\n",
       "    .dataframe tbody tr th:only-of-type {\n",
       "        vertical-align: middle;\n",
       "    }\n",
       "\n",
       "    .dataframe tbody tr th {\n",
       "        vertical-align: top;\n",
       "    }\n",
       "\n",
       "    .dataframe thead th {\n",
       "        text-align: right;\n",
       "    }\n",
       "</style>\n",
       "<table border=\"1\" class=\"dataframe\">\n",
       "  <thead>\n",
       "    <tr style=\"text-align: right;\">\n",
       "      <th></th>\n",
       "      <th>evt_id</th>\n",
       "      <th>sta</th>\n",
       "      <th>Tp</th>\n",
       "      <th>p_len</th>\n",
       "      <th>TsPmP</th>\n",
       "      <th>sPmP_len</th>\n",
       "      <th>TsPn</th>\n",
       "      <th>sPn_len</th>\n",
       "      <th>quality</th>\n",
       "      <th>evt_num</th>\n",
       "    </tr>\n",
       "  </thead>\n",
       "  <tbody>\n",
       "    <tr>\n",
       "      <th>0</th>\n",
       "      <td>39909423</td>\n",
       "      <td>CI.HOL.</td>\n",
       "      <td>15.558</td>\n",
       "      <td>0.3</td>\n",
       "      <td>18.173</td>\n",
       "      <td>0.3</td>\n",
       "      <td>nan</td>\n",
       "      <td>0.4</td>\n",
       "      <td>a</td>\n",
       "      <td>20220112002458770</td>\n",
       "    </tr>\n",
       "    <tr>\n",
       "      <th>1</th>\n",
       "      <td>39909511</td>\n",
       "      <td>AZ.LVA2.</td>\n",
       "      <td>3.723</td>\n",
       "      <td>0.2</td>\n",
       "      <td>11.662</td>\n",
       "      <td>0.3</td>\n",
       "      <td>nan</td>\n",
       "      <td>0.4</td>\n",
       "      <td>b</td>\n",
       "      <td>20220112021208390</td>\n",
       "    </tr>\n",
       "    <tr>\n",
       "      <th>2</th>\n",
       "      <td>39909511</td>\n",
       "      <td>AZ.SMER.</td>\n",
       "      <td>12.748</td>\n",
       "      <td>0.2</td>\n",
       "      <td>16.068</td>\n",
       "      <td>0.3</td>\n",
       "      <td>nan</td>\n",
       "      <td>0.4</td>\n",
       "      <td>b</td>\n",
       "      <td>20220112021208390</td>\n",
       "    </tr>\n",
       "    <tr>\n",
       "      <th>3</th>\n",
       "      <td>39909511</td>\n",
       "      <td>BC.RMX.</td>\n",
       "      <td>16.035</td>\n",
       "      <td>0.3</td>\n",
       "      <td>19.083</td>\n",
       "      <td>0.3</td>\n",
       "      <td>18.483</td>\n",
       "      <td>0.3</td>\n",
       "      <td>a</td>\n",
       "      <td>20220112021208390</td>\n",
       "    </tr>\n",
       "    <tr>\n",
       "      <th>4</th>\n",
       "      <td>39909663</td>\n",
       "      <td>CI.EML.</td>\n",
       "      <td>18.840</td>\n",
       "      <td>0.4</td>\n",
       "      <td>23.763</td>\n",
       "      <td>0.4</td>\n",
       "      <td>22.793</td>\n",
       "      <td>0.4</td>\n",
       "      <td>a</td>\n",
       "      <td>20220112090603170</td>\n",
       "    </tr>\n",
       "    <tr>\n",
       "      <th>...</th>\n",
       "      <td>...</td>\n",
       "      <td>...</td>\n",
       "      <td>...</td>\n",
       "      <td>...</td>\n",
       "      <td>...</td>\n",
       "      <td>...</td>\n",
       "      <td>...</td>\n",
       "      <td>...</td>\n",
       "      <td>...</td>\n",
       "      <td>...</td>\n",
       "    </tr>\n",
       "    <tr>\n",
       "      <th>100</th>\n",
       "      <td>40183624</td>\n",
       "      <td>CI.SLH.</td>\n",
       "      <td>3.360</td>\n",
       "      <td>0.4</td>\n",
       "      <td>13.400</td>\n",
       "      <td>0.4</td>\n",
       "      <td>nan</td>\n",
       "      <td>0.3</td>\n",
       "      <td>b</td>\n",
       "      <td>20220211232548160</td>\n",
       "    </tr>\n",
       "    <tr>\n",
       "      <th>101</th>\n",
       "      <td>40184400</td>\n",
       "      <td>CI.GMA.</td>\n",
       "      <td>5.090</td>\n",
       "      <td>0.4</td>\n",
       "      <td>11.200</td>\n",
       "      <td>0.4</td>\n",
       "      <td>nan</td>\n",
       "      <td>0.3</td>\n",
       "      <td>b</td>\n",
       "      <td>20220212232629910</td>\n",
       "    </tr>\n",
       "    <tr>\n",
       "      <th>102</th>\n",
       "      <td>40184400</td>\n",
       "      <td>CI.LUC2.</td>\n",
       "      <td>7.300</td>\n",
       "      <td>0.4</td>\n",
       "      <td>12.100</td>\n",
       "      <td>0.4</td>\n",
       "      <td>nan</td>\n",
       "      <td>0.3</td>\n",
       "      <td>a</td>\n",
       "      <td>20220212232629910</td>\n",
       "    </tr>\n",
       "    <tr>\n",
       "      <th>103</th>\n",
       "      <td>40184400</td>\n",
       "      <td>AZ.SND.</td>\n",
       "      <td>12.400</td>\n",
       "      <td>0.4</td>\n",
       "      <td>15.100</td>\n",
       "      <td>0.4</td>\n",
       "      <td>nan</td>\n",
       "      <td>0.3</td>\n",
       "      <td>b</td>\n",
       "      <td>20220212232629910</td>\n",
       "    </tr>\n",
       "    <tr>\n",
       "      <th>104</th>\n",
       "      <td>40185640</td>\n",
       "      <td>CI.PSR.</td>\n",
       "      <td>14.100</td>\n",
       "      <td>0.4</td>\n",
       "      <td>17.000</td>\n",
       "      <td>0.4</td>\n",
       "      <td>nan</td>\n",
       "      <td>0.3</td>\n",
       "      <td>b</td>\n",
       "      <td>20220214164135260</td>\n",
       "    </tr>\n",
       "  </tbody>\n",
       "</table>\n",
       "<p>105 rows × 10 columns</p>\n",
       "</div>"
      ],
      "text/plain": [
       "       evt_id        sta      Tp  p_len   TsPmP  sPmP_len     TsPn  sPn_len  \\\n",
       "0    39909423    CI.HOL.  15.558    0.3  18.173       0.3      nan      0.4   \n",
       "1    39909511   AZ.LVA2.   3.723    0.2  11.662       0.3      nan      0.4   \n",
       "2    39909511   AZ.SMER.  12.748    0.2  16.068       0.3      nan      0.4   \n",
       "3    39909511    BC.RMX.  16.035    0.3  19.083       0.3   18.483      0.3   \n",
       "4    39909663    CI.EML.  18.840    0.4  23.763       0.4   22.793      0.4   \n",
       "..        ...        ...     ...    ...     ...       ...      ...      ...   \n",
       "100  40183624    CI.SLH.   3.360    0.4  13.400       0.4      nan      0.3   \n",
       "101  40184400    CI.GMA.   5.090    0.4  11.200       0.4      nan      0.3   \n",
       "102  40184400   CI.LUC2.   7.300    0.4  12.100       0.4      nan      0.3   \n",
       "103  40184400    AZ.SND.  12.400    0.4  15.100       0.4      nan      0.3   \n",
       "104  40185640    CI.PSR.  14.100    0.4  17.000       0.4      nan      0.3   \n",
       "\n",
       "    quality            evt_num  \n",
       "0         a  20220112002458770  \n",
       "1         b  20220112021208390  \n",
       "2         b  20220112021208390  \n",
       "3         a  20220112021208390  \n",
       "4         a  20220112090603170  \n",
       "..      ...                ...  \n",
       "100       b  20220211232548160  \n",
       "101       b  20220212232629910  \n",
       "102       a  20220212232629910  \n",
       "103       b  20220212232629910  \n",
       "104       b  20220214164135260  \n",
       "\n",
       "[105 rows x 10 columns]"
      ]
     },
     "execution_count": 32,
     "metadata": {},
     "output_type": "execute_result"
    }
   ],
   "source": [
    "df"
   ]
  },
  {
   "attachments": {},
   "cell_type": "markdown",
   "metadata": {},
   "source": [
    "# Move the good SAC files into a new folder"
   ]
  },
  {
   "cell_type": "code",
   "execution_count": 25,
   "metadata": {},
   "outputs": [],
   "source": [
    "source_dir = data_sac\n",
    "target_dir = f\"{wsl_dir}/Data/GOOD_SAC_for_readin\""
   ]
  },
  {
   "cell_type": "code",
   "execution_count": 18,
   "metadata": {},
   "outputs": [],
   "source": [
    "for index, row in df.iterrows():\n",
    "    prefix = row[\"sta\"].strip()\n",
    "    suffix = \"Z.SAC.bp.cut\"\n",
    "    file_names = os.listdir(os.path.join(source_dir, str(row[\"evt_num\"])))\n",
    "\n",
    "    # Filter the file names to select only the files with the desired prefix and suffix\n",
    "    filtered_file_name = [file_name for file_name in file_names if file_name.startswith(prefix) and file_name.endswith(suffix)]\n",
    "\n",
    "\n",
    "    filepath = os.path.join(source_dir, str(row[\"evt_num\"]), filtered_file_name[0])\n",
    "    new_filepath = os.path.join(target_dir, str(row[\"evt_num\"]))\n",
    "    if not os.path.exists(new_filepath):\n",
    "        os.makedirs(new_filepath)\n",
    "    shutil.copy(filepath, new_filepath)"
   ]
  },
  {
   "attachments": {},
   "cell_type": "markdown",
   "metadata": {},
   "source": [
    "# Verify the number of files copied"
   ]
  },
  {
   "cell_type": "code",
   "execution_count": 26,
   "metadata": {},
   "outputs": [
    {
     "name": "stdout",
     "output_type": "stream",
     "text": [
      "105\n"
     ]
    }
   ],
   "source": [
    "num_files = 0\n",
    "\n",
    "# Recursively iterate over all files in the subdirectory and its subdirectories\n",
    "for root, dirs, files in os.walk(target_dir):\n",
    "    # For each file, increment the counter\n",
    "    for file_name in files:\n",
    "        if file_name.endswith(\"cut\"):\n",
    "            num_files += 1\n",
    "\n",
    "print(num_files)"
   ]
  },
  {
   "attachments": {},
   "cell_type": "markdown",
   "metadata": {},
   "source": [
    "# Gather bad signals"
   ]
  },
  {
   "cell_type": "code",
   "execution_count": 62,
   "metadata": {},
   "outputs": [],
   "source": [
    "folder_path = data_sac\n",
    "\n",
    "# get a list of all folders in the parent folder\n",
    "folders = os.listdir(folder_path)\n",
    "\n",
    "# filter the folders that match the regex pattern and fall within the specified range\n",
    "matched_folders = []\n",
    "for folder in folders:\n",
    "    folder_int = int(folder)\n",
    "    if 20220112002458770 < folder_int < 20220211232548160:\n",
    "            matched_folders.append(os.path.join(folder_path, folder))\n",
    "\n",
    "bad_files = []\n",
    "\n",
    "for folder in matched_folders:\n",
    "    evt_num = int(folder.split(\"/\")[-1])\n",
    "    try:\n",
    "        handpickP = pd.read_csv(f'{data_sac}/{evt_num}/judge/handpickP.info',delim_whitespace=True,names=[\"evt\",\"sta\", \"Tp\",\"TsPmP\",\"TsPn\"], header = None)\n",
    "        \n",
    "    except: continue\n",
    "    \n",
    "    saved_stations = df[df[\"evt_num\"] == evt_num][\"sta\"].values\n",
    "    saved_stations = [x.strip() for x in saved_stations]\n",
    "    stations = glob.glob(f\"{folder}/*Z.SAC.bp.cut\")\n",
    "    \n",
    "    for station in stations:\n",
    "        station_name = \" \"+\".\".join(station.split(\"/\")[-1].split(\".\")[0:2])+\".\"\n",
    "        \n",
    "        #remove white space for station_name\n",
    "        station_name = station_name.strip()\n",
    "        \n",
    "        if station_name not in saved_stations:\n",
    "            # checking that the station is not recorded in good signals\n",
    "            if station_name in handpickP[\"sta\"].values:\n",
    "                # checkcing if the signal has a handpicked signal\n",
    "            \n",
    "                bad_files.append(station)"
   ]
  },
  {
   "cell_type": "code",
   "execution_count": 66,
   "metadata": {},
   "outputs": [
    {
     "data": {
      "text/plain": [
       "'/mnt/c/Users/youzh/Documents/My documents(not synced)/sP_Workflow/Download/SAC/20220118084437210/CI.CWP..BHZ.SAC.bp.cut'"
      ]
     },
     "execution_count": 66,
     "metadata": {},
     "output_type": "execute_result"
    }
   ],
   "source": [
    "bad_files[0]"
   ]
  },
  {
   "attachments": {},
   "cell_type": "markdown",
   "metadata": {},
   "source": [
    "# move bad signals into a new folder"
   ]
  },
  {
   "cell_type": "code",
   "execution_count": 67,
   "metadata": {},
   "outputs": [],
   "source": [
    "dst_folder = f\"{wsl_dir}/Data/BAD_SAC_for_readin\"\n",
    "\n",
    "for file_path in bad_files:\n",
    "    file_name = os.path.basename(file_path)\n",
    "    evt_num = os.path.basename((os.path.split(file_path)[0]))\n",
    "    dst_path = os.path.join(dst_folder, evt_num)\n",
    "    if not os.path.exists(dst_path):\n",
    "        os.makedirs(dst_path)\n",
    "    dst_file_path = os.path.join(dst_path, file_name)\n",
    "    \n",
    "    shutil.copy(file_path, dst_file_path)"
   ]
  }
 ],
 "metadata": {
  "kernelspec": {
   "display_name": "pmpnet",
   "language": "python",
   "name": "python3"
  },
  "language_info": {
   "codemirror_mode": {
    "name": "ipython",
    "version": 3
   },
   "file_extension": ".py",
   "mimetype": "text/x-python",
   "name": "python",
   "nbconvert_exporter": "python",
   "pygments_lexer": "ipython3",
   "version": "3.9.16"
  },
  "orig_nbformat": 4
 },
 "nbformat": 4,
 "nbformat_minor": 2
}
