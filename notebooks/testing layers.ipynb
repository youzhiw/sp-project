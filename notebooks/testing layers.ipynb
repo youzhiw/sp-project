{
 "cells": [
  {
   "cell_type": "code",
   "execution_count": 19,
   "id": "772f9ba7",
   "metadata": {},
   "outputs": [
    {
     "name": "stdout",
     "output_type": "stream",
     "text": [
      "torch.Size([80, 1, 1365])\n"
     ]
    }
   ],
   "source": [
    "import torch\n",
    "import torch.nn as nn\n",
    "\n",
    "class ConvTransposeModel(nn.Module):\n",
    "    def __init__(self):\n",
    "        super(ConvTransposeModel, self).__init__()\n",
    "        self.conv_transpose1 = nn.ConvTranspose1d(in_channels=128, out_channels=128, kernel_size=16, stride=3, padding=0, output_padding=0)\n",
    "        self.conv_transpose2 = nn.ConvTranspose1d(in_channels=128, out_channels=1, kernel_size=15, stride=3, padding=0, output_padding=0)\n",
    "\n",
    "    def forward(self, x):\n",
    "        x = self.conv_transpose1(x)\n",
    "        x = self.conv_transpose2(x)\n",
    "        return x\n",
    "\n",
    "input_tensor = torch.randn(80, 128, 146)\n",
    "model = ConvTransposeModel()\n",
    "output_tensor = model(input_tensor)\n",
    "print(output_tensor.size())  # Should print torch.Size([80, 1, 1365])\n",
    "\n",
    "#q: how to make the output size 1365\n",
    "#q: how to make the output size 1365\n",
    "#a: output_padding=1\n",
    "#a: output_padding=1\n",
    "\n",
    "\n",
    "\n"
   ]
  },
  {
   "cell_type": "code",
   "execution_count": 16,
   "id": "ca2c482b",
   "metadata": {},
   "outputs": [
    {
     "data": {
      "text/plain": [
       "591"
      ]
     },
     "execution_count": 16,
     "metadata": {},
     "output_type": "execute_result"
    }
   ],
   "source": [
    "n= 146\n",
    "k = 11\n",
    "s = 4\n",
    "p= 0\n",
    "\n",
    "(n-1)*s - 2*p + k"
   ]
  },
  {
   "cell_type": "code",
   "execution_count": 17,
   "id": "89ac8450",
   "metadata": {},
   "outputs": [
    {
     "data": {
      "text/plain": [
       "1787"
      ]
     },
     "execution_count": 17,
     "metadata": {},
     "output_type": "execute_result"
    }
   ],
   "source": [
    "n= 593\n",
    "k = 11\n",
    "s = 3\n",
    "p= 0\n",
    "\n",
    "(n-1)*s - 2*p + k"
   ]
  },
  {
   "cell_type": "code",
   "execution_count": 88,
   "id": "bc3c1b82",
   "metadata": {},
   "outputs": [
    {
     "data": {
      "text/plain": [
       "38.0"
      ]
     },
     "execution_count": 88,
     "metadata": {},
     "output_type": "execute_result"
    }
   ],
   "source": [
    "(142-2+2*4)/4+1"
   ]
  }
 ],
 "metadata": {
  "kernelspec": {
   "display_name": "Python 3 (ipykernel)",
   "language": "python",
   "name": "python3"
  },
  "language_info": {
   "codemirror_mode": {
    "name": "ipython",
    "version": 3
   },
   "file_extension": ".py",
   "mimetype": "text/x-python",
   "name": "python",
   "nbconvert_exporter": "python",
   "pygments_lexer": "ipython3",
   "version": "3.9.16"
  }
 },
 "nbformat": 4,
 "nbformat_minor": 5
}
