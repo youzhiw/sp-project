{
 "cells": [
  {
   "cell_type": "code",
   "execution_count": 18,
   "id": "772f9ba7",
   "metadata": {},
   "outputs": [
    {
     "name": "stdout",
     "output_type": "stream",
     "text": [
      "torch.Size([10, 1, 1317])\n"
     ]
    }
   ],
   "source": [
    "import torch\n",
    "import torch.nn as nn\n",
    "\n",
    "class ConvTransposeModel(nn.Module):\n",
    "    def __init__(self):\n",
    "        super(ConvTransposeModel, self).__init__()\n",
    "        self.conv_transpose1 = nn.ConvTranspose1d(in_channels=64, out_channels=64, kernel_size=13, stride=3, padding=0, output_padding=0)\n",
    "        self.conv_transpose2 = nn.ConvTranspose1d(in_channels=64, out_channels=1, kernel_size=12, stride=3, padding=0, output_padding=0)\n",
    "\n",
    "    def forward(self, x):\n",
    "        x = self.conv_transpose1(x)\n",
    "        x = self.conv_transpose2(x)\n",
    "        return x\n",
    "\n",
    "input_tensor = torch.randn(10, 64, 142)\n",
    "model = ConvTransposeModel()\n",
    "output_tensor = model(input_tensor)\n",
    "print(output_tensor.size())  # Should print torch.Size([10, 1, 1317])\n"
   ]
  },
  {
   "cell_type": "code",
   "execution_count": 7,
   "id": "ca2c482b",
   "metadata": {},
   "outputs": [
    {
     "name": "stdout",
     "output_type": "stream",
     "text": [
      "429\n",
      "1288\n"
     ]
    },
    {
     "data": {
      "text/plain": [
       "2575"
      ]
     },
     "execution_count": 7,
     "metadata": {},
     "output_type": "execute_result"
    }
   ],
   "source": [
    "o1 = (142 - 1) * 3 - 2 * 0 + 4+2\n",
    "#output padding must be smaller than stride\n",
    "print(o1)\n",
    "o2 = (o1 - 1) * 3 - 2 * 1+ 5 +1\n",
    "print(o2)\n",
    "(o2 - 1) * 2 - 2 * 1 + 3 "
   ]
  },
  {
   "cell_type": "code",
   "execution_count": 58,
   "id": "89ac8450",
   "metadata": {},
   "outputs": [
    {
     "data": {
      "text/plain": [
       "1289"
      ]
     },
     "execution_count": 58,
     "metadata": {},
     "output_type": "execute_result"
    }
   ],
   "source": [
    "(o1 - 1) * 3 - 2 * 14 + 3"
   ]
  },
  {
   "cell_type": "code",
   "execution_count": 88,
   "id": "bc3c1b82",
   "metadata": {},
   "outputs": [
    {
     "data": {
      "text/plain": [
       "38.0"
      ]
     },
     "execution_count": 88,
     "metadata": {},
     "output_type": "execute_result"
    }
   ],
   "source": [
    "(142-2+2*4)/4+1"
   ]
  }
 ],
 "metadata": {
  "kernelspec": {
   "display_name": "Python 3 (ipykernel)",
   "language": "python",
   "name": "python3"
  },
  "language_info": {
   "codemirror_mode": {
    "name": "ipython",
    "version": 3
   },
   "file_extension": ".py",
   "mimetype": "text/x-python",
   "name": "python",
   "nbconvert_exporter": "python",
   "pygments_lexer": "ipython3",
   "version": "3.9.16"
  }
 },
 "nbformat": 4,
 "nbformat_minor": 5
}
