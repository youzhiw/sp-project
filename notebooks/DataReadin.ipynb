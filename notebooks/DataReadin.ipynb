{
 "cells": [
  {
   "cell_type": "code",
   "execution_count": 4,
   "metadata": {},
   "outputs": [],
   "source": [
    "datadir = \"/home/youzhi/python-projects/sp-project/envelope_normalized\""
   ]
  },
  {
   "cell_type": "code",
   "execution_count": 5,
   "metadata": {
    "jupyter": {
     "outputs_hidden": true
    },
    "tags": [
     "outputPrepend"
    ]
   },
   "outputs": [],
   "source": [
    "import pickle\n",
    "from obspy import read\n",
    "import os\n",
    "\n",
    "signal_evid = []\n",
    "signal_evlo = []\n",
    "signal_evla = []\n",
    "signal_stlo = []\n",
    "signal_stla = []\n",
    "signal_fname = []\n",
    "envelop_signal = []\n",
    "PmP_label = []\n",
    "PmP_time = []\n",
    "PmP_ptime = []\n",
    "PmP_dist = []\n",
    "PmP_evdp = []\n",
    "PmP_mag = []\n",
    "j=0\n",
    "for file in os.listdir(datadir):\n",
    "    if file.endswith(\".ev\"):\n",
    "        j=j+1\n",
    "        st = read(os.path.join(f\"{datadir}\", file))\n",
    "        envelop_signal.append(st[0].data)\n",
    "        filenm = file.split('.',6)\n",
    "        filenmall=f\"{filenm[0]}\"+'.'+f\"{filenm[1]}\"+'.'+f\"{filenm[2]}\"\n",
    "        signal_evid.append(st[0].stats.sac.nevid)\n",
    "        signal_evlo.append(st[0].stats.sac.evlo)\n",
    "        signal_evla.append(st[0].stats.sac.evla)\n",
    "        signal_stlo.append(st[0].stats.sac.stlo)\n",
    "        signal_stla.append(st[0].stats.sac.stla)\n",
    "        signal_fname.append(filenmall)\n",
    "        if st[0].stats.sac.get(\"kt2\") != None:\n",
    "            if st[0].stats.sac.kt2 == \"sPmP\":\n",
    "                PmP_label.append(1)\n",
    "            else:\n",
    "                PmP_label.append(0)\n",
    "        else:\n",
    "            PmP_label.append(0)\n",
    "        PmP_time.append(st[0].stats.sac.t2)       ### differential traveltime between P and PmP waves\n",
    "        PmP_ptime.append(st[0].stats.sac.o)       ### (negative) traveltime of first P wave (This is because waveform has been aligned to P-wave arrival)\n",
    "        PmP_dist.append(st[0].stats.sac.dist)\n",
    "        PmP_evdp.append(st[0].stats.sac.evdp)\n",
    "        PmP_mag.append(st[0].stats.sac.mag)\n",
    "        #print(\"%d  %s  %g  %g  %g  %g  %g %d\"%(j,signal_fname[j-1],PmP_time[j-1],PmP_ptime[j-1],PmP_dist[j-1],PmP_evdp[j-1],PmP_mag[j-1],PmP_label[j-1]))"
   ]
  },
  {
   "cell_type": "code",
   "execution_count": 6,
   "metadata": {},
   "outputs": [
    {
     "name": "stdout",
     "output_type": "stream",
     "text": [
      "1301\n"
     ]
    }
   ],
   "source": [
    "print(len(envelop_signal[0]))"
   ]
  },
  {
   "cell_type": "code",
   "execution_count": 5,
   "metadata": {},
   "outputs": [
    {
     "name": "stdout",
     "output_type": "stream",
     "text": [
      "0 1301\n",
      "1 1301\n",
      "2 1301\n",
      "3 1301\n",
      "4 1301\n",
      "5 1301\n",
      "6 1301\n",
      "7 1301\n",
      "8 1301\n",
      "9 1301\n",
      "10 1301\n",
      "11 1301\n",
      "12 1301\n",
      "13 1301\n",
      "14 1301\n",
      "15 1301\n",
      "16 1301\n",
      "17 1301\n",
      "18 1301\n",
      "19 1301\n",
      "20 1301\n",
      "21 1301\n",
      "22 1301\n",
      "23 1301\n",
      "24 1301\n",
      "25 1301\n",
      "26 1301\n",
      "27 1301\n",
      "28 1301\n",
      "29 1301\n",
      "30 1301\n",
      "31 1301\n",
      "32 1301\n",
      "33 1301\n",
      "34 1301\n",
      "35 1301\n",
      "36 1301\n",
      "37 1301\n",
      "38 1301\n",
      "39 1301\n",
      "40 1301\n",
      "41 1301\n",
      "42 1301\n",
      "43 1301\n",
      "44 1301\n",
      "45 1301\n",
      "46 1301\n",
      "47 1301\n",
      "48 1301\n",
      "49 1301\n",
      "50 1301\n",
      "51 1301\n",
      "52 1301\n",
      "53 1301\n",
      "54 1301\n",
      "55 1301\n",
      "56 1301\n",
      "57 1301\n",
      "58 1301\n",
      "59 1301\n",
      "60 1301\n",
      "61 1301\n",
      "62 1301\n",
      "63 1301\n",
      "64 1301\n",
      "65 1301\n",
      "66 1301\n",
      "67 1301\n",
      "68 1301\n",
      "69 1301\n",
      "70 1301\n",
      "71 1301\n",
      "72 1301\n",
      "73 1301\n",
      "74 1301\n",
      "75 1301\n",
      "76 1301\n",
      "77 1301\n",
      "78 1301\n",
      "79 1301\n",
      "80 1301\n",
      "81 1301\n",
      "82 1301\n",
      "83 1301\n",
      "84 1301\n",
      "85 1301\n",
      "86 1301\n",
      "87 1301\n",
      "88 1301\n",
      "89 1301\n",
      "90 1301\n",
      "91 1301\n",
      "92 1301\n",
      "93 1301\n",
      "94 1301\n",
      "95 1301\n",
      "96 1301\n",
      "97 1301\n",
      "98 1301\n",
      "99 1301\n",
      "100 1301\n",
      "101 101 101 101 101 101 101 101 101 101 101 101 101\n"
     ]
    }
   ],
   "source": [
    "#only keep signal with length 281\n",
    "i = 0\n",
    "while( i < len(envelop_signal)):\n",
    "#     if len(envelop_signal[i]) != 281:\n",
    "        print(i, len(envelop_signal[i]))\n",
    "#         envelop_signal.pop(i)\n",
    "#         PmP_time.pop(i)\n",
    "#         PmP_ptime.pop(i)\n",
    "#         PmP_label.pop(i)\n",
    "#         PmP_dist.pop(i)\n",
    "#         PmP_evdp.pop(i)\n",
    "#         PmP_mag.pop(i)\n",
    "#         signal_stlo.pop(i) \n",
    "#         signal_stla.pop(i) \n",
    "#         signal_evlo.pop(i) \n",
    "#         signal_evla.pop(i) \n",
    "#         signal_evid.pop(i) \n",
    "#         signal_fname.pop(i)\n",
    "#         i=i-1\n",
    "        i=i+1\n",
    "\n",
    "print(len(envelop_signal),len(PmP_time),len(PmP_ptime),len(PmP_label),len(PmP_dist),\n",
    "    len(PmP_evdp),len(PmP_mag),len(signal_stlo),len(signal_stla),\n",
    "    len(signal_evlo), len(signal_evla),len(signal_evid),len(signal_fname))"
   ]
  },
  {
   "cell_type": "code",
   "execution_count": 6,
   "metadata": {},
   "outputs": [],
   "source": [
    "# don't use this one\n",
    "#fast save and retrieve data, no need to read in data again(very slow)\n",
    "\n",
    "def saveVariables(variables, filename): #where 'variables' is a list of variables\n",
    "    with open(filename, 'wb+') as file:\n",
    "        pickle.dump(variables, file)\n",
    "\n",
    "#save the data\n",
    "saveVariables([envelop_signal, PmP_time, PmP_ptime, PmP_label, PmP_dist, PmP_evdp, PmP_mag, signal_stlo, signal_stla, signal_evlo, signal_evla, signal_evid, signal_fname], f\"{datadir}/readindata\")"
   ]
  },
  {
   "cell_type": "code",
   "execution_count": 7,
   "metadata": {},
   "outputs": [],
   "source": [
    "#fast save and retrieve data, no need to read in data again(very slow)\n",
    "\n",
    "def saveVariables(variables, filename): #where 'variables' is a list of variables\n",
    "    with open(filename, 'wb+') as file:\n",
    "        pickle.dump(variables, file)\n",
    "\n",
    "#save the data\n",
    "saveVariables([envelop_signal, PmP_time, PmP_label, PmP_dist, PmP_evdp, PmP_mag, signal_stlo, signal_stla, signal_evlo, signal_evla, signal_evid, signal_fname], f\"{datadir}/readindata\")"
   ]
  }
 ],
 "metadata": {
  "interpreter": {
   "hash": "3b1ca69d69d14229e6aee183da12fb6349ba5a78fde98c1a919df8a905af523c"
  },
  "kernelspec": {
   "display_name": "Python 3 (ipykernel)",
   "language": "python",
   "name": "python3"
  },
  "language_info": {
   "codemirror_mode": {
    "name": "ipython",
    "version": 3
   },
   "file_extension": ".py",
   "mimetype": "text/x-python",
   "name": "python",
   "nbconvert_exporter": "python",
   "pygments_lexer": "ipython3",
   "version": "3.9.16"
  }
 },
 "nbformat": 4,
 "nbformat_minor": 4
}
