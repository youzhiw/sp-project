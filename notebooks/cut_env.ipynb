{
 "cells": [
  {
   "cell_type": "code",
   "execution_count": 1,
   "id": "5e81e9c4",
   "metadata": {},
   "outputs": [],
   "source": [
    "import obspy\n",
    "import obspy.signal.filter\n",
    "from obspy.io.sac.sactrace import SACTrace\n",
    "from obspy.io.sac.util import get_sac_reftime\n",
    "import os\n",
    "import glob\n",
    "import numpy as np\n",
    "import shutil"
   ]
  },
  {
   "cell_type": "code",
   "execution_count": 2,
   "id": "9f733688",
   "metadata": {},
   "outputs": [
    {
     "data": {
      "text/plain": [
       "'/home/youzhi/python-projects/sp-project/notebooks'"
      ]
     },
     "execution_count": 2,
     "metadata": {},
     "output_type": "execute_result"
    }
   ],
   "source": [
    "os.getcwd()"
   ]
  },
  {
   "cell_type": "code",
   "execution_count": 3,
   "id": "fada32c3",
   "metadata": {
    "jupyter": {
     "outputs_hidden": true
    },
    "tags": []
   },
   "outputs": [
    {
     "name": "stdout",
     "output_type": "stream",
     "text": [
      "20220112002458770\n",
      "20220112021208390\n",
      "20220112090603170\n",
      "20220113032108850\n",
      "20220113032453520\n",
      "20220113082309790\n",
      "20220115161902000\n",
      "20220116091814410\n",
      "20220116124930000\n",
      "20220116145950590\n",
      "20220117000229990\n",
      "20220117155620910\n",
      "20220118073915120\n",
      "20220118084437210\n",
      "20220120095230400\n",
      "20220122010142300\n",
      "20220122234305360\n",
      "20220123044939870\n",
      "20220123205715240\n",
      "20220124023838010\n",
      "20220125172319330\n",
      "20220125192818690\n",
      "20220125212130440\n",
      "20220126050555330\n",
      "20220126095905010\n",
      "20220126103830020\n",
      "20220127033401460\n",
      "20220127095426310\n",
      "20220128104007860\n",
      "20220128203303970\n",
      "20220129055641000\n",
      "20220131234528720\n",
      "20220201012424220\n",
      "20220201192630930\n",
      "20220202070130500\n",
      "20220202100105740\n",
      "20220203075810850\n",
      "20220203151832540\n",
      "20220203170822680\n",
      "20220204105219770\n",
      "20220205074104630\n",
      "20220205074909660\n",
      "20220205183420810\n",
      "20220205234904960\n",
      "20220206232447510\n",
      "20220207121028870\n",
      "20220209014742470\n",
      "20220209040551690\n",
      "20220209121834630\n",
      "20220211121842170\n",
      "20220211141550450\n",
      "20220211142113660\n",
      "20220211232548160\n"
     ]
    }
   ],
   "source": [
    "data_sac = \"/home/youzhi/python-projects/sp-project/SAC_for_readin\"\n",
    "\n",
    "for year in sorted(os.listdir(data_sac)):\n",
    "    print(year)\n",
    "    inpath = os.path.join(data_sac, year)\n",
    "    if os.path.isdir(inpath):\n",
    "        #print(inpath)\n",
    "        os.chdir(inpath)\n",
    "        for bp in sorted(glob.glob(\"*.bp\")):\n",
    "            #print(bp)\n",
    "            # calculate the envelope\n",
    "            tr = obspy.read(bp)\n",
    "            trenv = obspy.signal.filter.envelope(tr[0].data)\n",
    "            # normalize the envelope\n",
    "            trenv = trenv / np.max(trenv)\n",
    "            tr[0].data = trenv\n",
    "            tr[0].write(bp +\".ev\", format='SAC')\n",
    "            \n",
    "            nbp = \"{}.{}\".format(bp,\"ev\")\n",
    "            ntr = obspy.read(nbp)\n",
    "            # cut the waveform within a given time window, -2 to 11 s\n",
    "            # changed to 11 based on data I collected\n",
    "            T = get_sac_reftime(ntr[0].stats.sac) + 0\n",
    "            ntr.trim(starttime = T-2, endtime = T+11, fill_value=0)\n",
    "            ntr[0].write(nbp, format='SAC')\n",
    "\n",
    "            tr = obspy.read(bp)\n",
    "            # cut the waveform within a given time window, -2 to 11 s\n",
    "            T = get_sac_reftime(tr[0].stats.sac) + 0\n",
    "            tr.trim(starttime = T-2, endtime = T+11, fill_value=0)\n",
    "            tr[0].write(bp, format='SAC')"
   ]
  },
  {
   "cell_type": "code",
   "execution_count": 4,
   "id": "e174c0c3",
   "metadata": {},
   "outputs": [],
   "source": [
    "target_dir = \"/home/youzhi/python-projects/sp-project/envelope_normalized\""
   ]
  },
  {
   "cell_type": "code",
   "execution_count": 5,
   "id": "786cca27",
   "metadata": {},
   "outputs": [
    {
     "name": "stdout",
     "output_type": "stream",
     "text": [
      "101\n"
     ]
    }
   ],
   "source": [
    "# move all the ev files into a folder\n",
    "data_sac = \"/home/youzhi/python-projects/sp-project/SAC_for_readin\"\n",
    "num_files = 0\n",
    "for path in os.listdir(data_sac):\n",
    "    #print(path)\n",
    "    if path.endswith(\"ini\") != True:\n",
    "        \n",
    "        for file in os.listdir(os.path.join(data_sac, path)):\n",
    "            #print(file)\n",
    "            if file.endswith(\".ev\"):\n",
    "                filepath = os.path.join(data_sac, path, file)\n",
    "                shutil.copy(filepath, os.path.join(target_dir, file))\n",
    "                #print(filepath)\n",
    "\t    #some times if might count desktop.ini files\n",
    "                num_files += 1\n",
    "print(num_files)"
   ]
  },
  {
   "cell_type": "code",
   "execution_count": null,
   "id": "258c2cd8",
   "metadata": {},
   "outputs": [],
   "source": []
  }
 ],
 "metadata": {
  "interpreter": {
   "hash": "3b1ca69d69d14229e6aee183da12fb6349ba5a78fde98c1a919df8a905af523c"
  },
  "kernelspec": {
   "display_name": "Python 3 (ipykernel)",
   "language": "python",
   "name": "python3"
  },
  "language_info": {
   "codemirror_mode": {
    "name": "ipython",
    "version": 3
   },
   "file_extension": ".py",
   "mimetype": "text/x-python",
   "name": "python",
   "nbconvert_exporter": "python",
   "pygments_lexer": "ipython3",
   "version": "3.9.16"
  }
 },
 "nbformat": 4,
 "nbformat_minor": 5
}
