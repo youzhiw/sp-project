{
 "cells": [
  {
   "cell_type": "code",
   "execution_count": 7,
   "id": "614c5bf4",
   "metadata": {},
   "outputs": [],
   "source": [
    "import obspy\n",
    "import obspy.signal.filter\n",
    "from obspy.io.sac.sactrace import SACTrace\n",
    "from obspy.io.sac.util import get_sac_reftime\n",
    "import os\n",
    "import glob\n",
    "import numpy as np\n",
    "import shutil\n",
    "import pickle\n",
    "from obspy import read"
   ]
  },
  {
   "cell_type": "markdown",
   "id": "6dccaab4",
   "metadata": {},
   "source": [
    "# Convert to envelope, normalize and cut waveform"
   ]
  },
  {
   "cell_type": "code",
   "execution_count": 2,
   "id": "dc907ec5",
   "metadata": {},
   "outputs": [
    {
     "name": "stdout",
     "output_type": "stream",
     "text": [
      "20220112021208390\n",
      "20220112090603170\n",
      "20220113032108850\n",
      "20220113032453520\n",
      "20220113082309790\n",
      "20220115161902000\n",
      "20220116091814410\n",
      "20220116124930000\n",
      "20220116145950590\n",
      "20220117000229990\n",
      "20220117155620910\n",
      "20220118073915120\n",
      "20220118084437210\n",
      "20220120095230400\n",
      "20220122010142300\n",
      "20220122234305360\n",
      "20220123044939870\n",
      "20220123205715240\n",
      "20220124023838010\n",
      "20220125172319330\n",
      "20220125192818690\n",
      "20220125212130440\n",
      "20220126050555330\n",
      "20220126095905010\n",
      "20220126103830020\n",
      "20220127033401460\n",
      "20220127095426310\n",
      "20220128104007860\n",
      "20220128203303970\n",
      "20220129055641000\n",
      "20220131234528720\n",
      "20220201012424220\n",
      "20220201192630930\n",
      "20220202070130500\n",
      "20220202100105740\n",
      "20220203075810850\n",
      "20220203151832540\n",
      "20220203170822680\n",
      "20220204105219770\n",
      "20220205074104630\n",
      "20220205074909660\n",
      "20220205183420810\n",
      "20220205234904960\n",
      "20220206232447510\n"
     ]
    }
   ],
   "source": [
    "data_sac = \"/home/youzhi/python-projects/sp-project/BAD_SAC_for_readin\"\n",
    "\n",
    "for year in sorted(os.listdir(data_sac)):\n",
    "    print(year)\n",
    "    inpath = os.path.join(data_sac, year)\n",
    "    if os.path.isdir(inpath):\n",
    "        #print(inpath)\n",
    "        os.chdir(inpath)\n",
    "        for bp in sorted(glob.glob(\"*.bp\")):\n",
    "            #print(bp)\n",
    "            # calculate the envelope\n",
    "            tr = obspy.read(bp)\n",
    "            trenv = obspy.signal.filter.envelope(tr[0].data)\n",
    "            # normalize the envelope\n",
    "            trenv = trenv / np.max(trenv)\n",
    "            tr[0].data = trenv\n",
    "            tr[0].write(bp +\".ev\", format='SAC')\n",
    "            \n",
    "            nbp = \"{}.{}\".format(bp,\"ev\")\n",
    "            ntr = obspy.read(nbp)\n",
    "            # cut the waveform within a given time window, -2 to 11 s\n",
    "            # changed to 11 based on data I collected\n",
    "            T = get_sac_reftime(ntr[0].stats.sac) + 0\n",
    "            ntr.trim(starttime = T-2, endtime = T+11, fill_value=0)\n",
    "            ntr[0].write(nbp, format='SAC')\n",
    "\n",
    "            tr = obspy.read(bp)\n",
    "            # cut the waveform within a given time window, -2 to 11 s\n",
    "            T = get_sac_reftime(tr[0].stats.sac) + 0\n",
    "            tr.trim(starttime = T-2, endtime = T+11, fill_value=0)\n",
    "            tr[0].write(bp, format='SAC')"
   ]
  },
  {
   "cell_type": "markdown",
   "id": "3a76b61b",
   "metadata": {},
   "source": [
    "# Move ev files into a new folder"
   ]
  },
  {
   "cell_type": "code",
   "execution_count": 3,
   "id": "ec32c0e5",
   "metadata": {},
   "outputs": [
    {
     "name": "stdout",
     "output_type": "stream",
     "text": [
      "4441\n"
     ]
    }
   ],
   "source": [
    "target_dir = \"/home/youzhi/python-projects/sp-project/envelope_normalized\"\n",
    "# move all the ev files into a folder\n",
    "data_sac = \"/home/youzhi/python-projects/sp-project/BAD_SAC_for_readin\"\n",
    "num_files = 0\n",
    "for path in os.listdir(data_sac):\n",
    "    #print(path)\n",
    "    if path.endswith(\"ini\") != True:\n",
    "        \n",
    "        for file in os.listdir(os.path.join(data_sac, path)):\n",
    "            #print(file)\n",
    "            if file.endswith(\".ev\"):\n",
    "                filepath = os.path.join(data_sac, path, file)\n",
    "                shutil.copy(filepath, os.path.join(target_dir, file))\n",
    "                #print(filepath)\n",
    "\t    #some times if might count desktop.ini files\n",
    "                num_files += 1\n",
    "print(num_files)"
   ]
  },
  {
   "cell_type": "markdown",
   "id": "0a0ceebf",
   "metadata": {},
   "source": [
    "# Combine envelope for neural network readin"
   ]
  },
  {
   "cell_type": "code",
   "execution_count": 5,
   "id": "a7f375db",
   "metadata": {},
   "outputs": [],
   "source": [
    "datadir = target_dir\n",
    "\n",
    "signal_evid = []\n",
    "signal_evlo = []\n",
    "signal_evla = []\n",
    "signal_stlo = []\n",
    "signal_stla = []\n",
    "signal_fname = []\n",
    "envelop_signal = []\n",
    "PmP_label = []\n",
    "PmP_time = []\n",
    "PmP_ptime = []\n",
    "PmP_dist = []\n",
    "PmP_evdp = []\n",
    "PmP_mag = []\n",
    "j=0\n",
    "for file in os.listdir(datadir):\n",
    "    if file.endswith(\".ev\"):\n",
    "        j=j+1\n",
    "        st = read(os.path.join(f\"{datadir}\", file))\n",
    "        envelop_signal.append(st[0].data)\n",
    "        filenm = file.split('.',6)\n",
    "        filenmall=f\"{filenm[0]}\"+'.'+f\"{filenm[1]}\"+'.'+f\"{filenm[2]}\"\n",
    "        signal_evid.append(st[0].stats.sac.nevid)\n",
    "        signal_evlo.append(st[0].stats.sac.evlo)\n",
    "        signal_evla.append(st[0].stats.sac.evla)\n",
    "        signal_stlo.append(st[0].stats.sac.stlo)\n",
    "        signal_stla.append(st[0].stats.sac.stla)\n",
    "        signal_fname.append(filenmall)\n",
    "        if st[0].stats.sac.get(\"kt2\") != None:\n",
    "            if st[0].stats.sac.kt2 == \"sPmP\":\n",
    "                PmP_label.append(0) # 0 for bad, 1 for good\n",
    "            else:\n",
    "                PmP_label.append(0)\n",
    "        else:\n",
    "            PmP_label.append(0)\n",
    "        PmP_time.append(st[0].stats.sac.t2)       ### differential traveltime between P and PmP waves\n",
    "        PmP_ptime.append(st[0].stats.sac.o)       ### (negative) traveltime of first P wave (This is because waveform has been aligned to P-wave arrival)\n",
    "        PmP_dist.append(st[0].stats.sac.dist)\n",
    "        PmP_evdp.append(st[0].stats.sac.evdp)\n",
    "        PmP_mag.append(st[0].stats.sac.mag)\n",
    "        #print(\"%d  %s  %g  %g  %g  %g  %g %d\"%(j,signal_fname[j-1],PmP_time[j-1],PmP_ptime[j-1],PmP_dist[j-1],PmP_evdp[j-1],PmP_mag[j-1],PmP_label[j-1]))"
   ]
  },
  {
   "cell_type": "markdown",
   "id": "3ddfb79a",
   "metadata": {},
   "source": [
    "# save into a single file"
   ]
  },
  {
   "cell_type": "code",
   "execution_count": 8,
   "id": "ad859f94",
   "metadata": {},
   "outputs": [],
   "source": [
    "#fast save and retrieve data, no need to read in data again(very slow)\n",
    "\n",
    "def saveVariables(variables, filename): #where 'variables' is a list of variables\n",
    "    with open(filename, 'wb+') as file:\n",
    "        pickle.dump(variables, file)\n",
    "\n",
    "#save the data\n",
    "saveVariables([envelop_signal, PmP_time, PmP_label, PmP_dist, PmP_evdp, PmP_mag, signal_stlo, signal_stla, signal_evlo, signal_evla, signal_evid, signal_fname], f\"{datadir}/readindata\")"
   ]
  }
 ],
 "metadata": {
  "kernelspec": {
   "display_name": "Python 3 (ipykernel)",
   "language": "python",
   "name": "python3"
  },
  "language_info": {
   "codemirror_mode": {
    "name": "ipython",
    "version": 3
   },
   "file_extension": ".py",
   "mimetype": "text/x-python",
   "name": "python",
   "nbconvert_exporter": "python",
   "pygments_lexer": "ipython3",
   "version": "3.9.16"
  }
 },
 "nbformat": 4,
 "nbformat_minor": 5
}
