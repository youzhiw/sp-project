{
 "cells": [
  {
   "cell_type": "code",
   "execution_count": 1,
   "id": "492e1983",
   "metadata": {},
   "outputs": [],
   "source": [
    "import os\n",
    "import glob\n",
    "import obspy\n",
    "import time\n",
    "import pandas as pd\n",
    "from obspy.taup import TauPyModel\n",
    "from obspy.clients.iris import Client\n",
    "client = Client()\n",
    "import matplotlib.pyplot as plt\n",
    "import numpy as np\n",
    "from IPython.display import clear_output"
   ]
  },
  {
   "cell_type": "code",
   "execution_count": 5,
   "id": "be0152a8",
   "metadata": {},
   "outputs": [
    {
     "name": "stdout",
     "output_type": "stream",
     "text": [
      "/mnt\n"
     ]
    },
    {
     "data": {
      "text/plain": [
       "'/mnt'"
      ]
     },
     "execution_count": 5,
     "metadata": {},
     "output_type": "execute_result"
    }
   ],
   "source": [
    "print(os.getcwd())\n",
    "os.chdir(\"/mnt\")\n",
    "os.getcwd()"
   ]
  },
  {
   "cell_type": "code",
   "execution_count": 7,
   "id": "8e024c12",
   "metadata": {},
   "outputs": [
    {
     "name": "stdout",
     "output_type": "stream",
     "text": [
      "/mnt/c/Users/youzh/Documents/My documents(not synced)/sP_Workflow\n"
     ]
    }
   ],
   "source": [
    "os.chdir(\"/mnt\")\n",
    "ddir = f\"/mnt/c/Users/youzh/Documents/My documents(not synced)/sP_Workflow\"\n",
    "data_sac = f\"{ddir}/Download/SAC\"\n",
    "wdir = f\"{ddir}/Download/Verified\"\n",
    "\n",
    "\n",
    "os.chdir(ddir)\n",
    "print(os.getcwd())\n"
   ]
  },
  {
   "cell_type": "code",
   "execution_count": 8,
   "id": "f7e69288",
   "metadata": {
    "scrolled": false
   },
   "outputs": [
    {
     "name": "stdout",
     "output_type": "stream",
     "text": [
      "20220223002039970\n"
     ]
    },
    {
     "ename": "KeyboardInterrupt",
     "evalue": "",
     "output_type": "error",
     "traceback": [
      "\u001b[0;31m---------------------------------------------------------------------------\u001b[0m",
      "\u001b[0;31mKeyboardInterrupt\u001b[0m                         Traceback (most recent call last)",
      "Cell \u001b[0;32mIn[8], line 37\u001b[0m\n\u001b[1;32m     35\u001b[0m \u001b[39mprint\u001b[39m(ev)\n\u001b[1;32m     36\u001b[0m \u001b[39mfor\u001b[39;00m i,sta \u001b[39min\u001b[39;00m \u001b[39menumerate\u001b[39m(handpickP[\u001b[39m\"\u001b[39m\u001b[39msta\u001b[39m\u001b[39m\"\u001b[39m]):\n\u001b[0;32m---> 37\u001b[0m     st \u001b[39m=\u001b[39m obspy\u001b[39m.\u001b[39;49mread(\u001b[39mf\u001b[39;49m\u001b[39m\"\u001b[39;49m\u001b[39m{\u001b[39;49;00mdata_sac\u001b[39m}\u001b[39;49;00m\u001b[39m/\u001b[39;49m\u001b[39m{\u001b[39;49;00mev\u001b[39m}\u001b[39;49;00m\u001b[39m/\u001b[39;49m\u001b[39m{\u001b[39;49;00msta\u001b[39m}\u001b[39;49;00m\u001b[39m*Z.SAC.bp\u001b[39;49m\u001b[39m\"\u001b[39;49m)\n\u001b[1;32m     38\u001b[0m     sachd \u001b[39m=\u001b[39m st[\u001b[39m0\u001b[39m]\u001b[39m.\u001b[39mstats\u001b[39m.\u001b[39msac\n\u001b[1;32m     39\u001b[0m     evdp \u001b[39m=\u001b[39m np\u001b[39m.\u001b[39mappend(evdp, sachd[\u001b[39m\"\u001b[39m\u001b[39mevdp\u001b[39m\u001b[39m\"\u001b[39m])\n",
      "File \u001b[0;32m~/miniconda3/envs/pmpnet/lib/python3.9/site-packages/decorator.py:232\u001b[0m, in \u001b[0;36mdecorate.<locals>.fun\u001b[0;34m(*args, **kw)\u001b[0m\n\u001b[1;32m    230\u001b[0m \u001b[39mif\u001b[39;00m \u001b[39mnot\u001b[39;00m kwsyntax:\n\u001b[1;32m    231\u001b[0m     args, kw \u001b[39m=\u001b[39m fix(args, kw, sig)\n\u001b[0;32m--> 232\u001b[0m \u001b[39mreturn\u001b[39;00m caller(func, \u001b[39m*\u001b[39;49m(extras \u001b[39m+\u001b[39;49m args), \u001b[39m*\u001b[39;49m\u001b[39m*\u001b[39;49mkw)\n",
      "File \u001b[0;32m~/miniconda3/envs/pmpnet/lib/python3.9/site-packages/obspy/core/util/decorator.py:300\u001b[0m, in \u001b[0;36mmap_example_filename.<locals>._map_example_filename\u001b[0;34m(func, *args, **kwargs)\u001b[0m\n\u001b[1;32m    298\u001b[0m                 \u001b[39mexcept\u001b[39;00m \u001b[39mIOError\u001b[39;00m:\n\u001b[1;32m    299\u001b[0m                     \u001b[39mpass\u001b[39;00m\n\u001b[0;32m--> 300\u001b[0m \u001b[39mreturn\u001b[39;00m func(\u001b[39m*\u001b[39;49margs, \u001b[39m*\u001b[39;49m\u001b[39m*\u001b[39;49mkwargs)\n",
      "File \u001b[0;32m~/miniconda3/envs/pmpnet/lib/python3.9/site-packages/obspy/core/stream.py:212\u001b[0m, in \u001b[0;36mread\u001b[0;34m(pathname_or_url, format, headonly, starttime, endtime, nearest_sample, dtype, apply_calib, check_compression, **kwargs)\u001b[0m\n\u001b[1;32m    210\u001b[0m     st \u001b[39m=\u001b[39m _create_example_stream(headonly\u001b[39m=\u001b[39mheadonly)\n\u001b[1;32m    211\u001b[0m \u001b[39melse\u001b[39;00m:\n\u001b[0;32m--> 212\u001b[0m     st \u001b[39m=\u001b[39m _generic_reader(pathname_or_url, _read, \u001b[39m*\u001b[39;49m\u001b[39m*\u001b[39;49mkwargs)\n\u001b[1;32m    214\u001b[0m \u001b[39mif\u001b[39;00m \u001b[39mlen\u001b[39m(st) \u001b[39m==\u001b[39m \u001b[39m0\u001b[39m:\n\u001b[1;32m    215\u001b[0m     \u001b[39m# try to give more specific information why the stream is empty\u001b[39;00m\n\u001b[1;32m    216\u001b[0m     \u001b[39mif\u001b[39;00m has_magic(pathname_or_url) \u001b[39mand\u001b[39;00m \u001b[39mnot\u001b[39;00m glob(pathname_or_url):\n",
      "File \u001b[0;32m~/miniconda3/envs/pmpnet/lib/python3.9/site-packages/obspy/core/util/base.py:702\u001b[0m, in \u001b[0;36m_generic_reader\u001b[0;34m(pathname_or_url, callback_func, **kwargs)\u001b[0m\n\u001b[1;32m    699\u001b[0m     \u001b[39melif\u001b[39;00m \u001b[39mnot\u001b[39;00m glob\u001b[39m.\u001b[39mhas_magic(pathname) \u001b[39mand\u001b[39;00m \u001b[39mnot\u001b[39;00m os\u001b[39m.\u001b[39mpath\u001b[39m.\u001b[39misfile(pathname):\n\u001b[1;32m    700\u001b[0m         \u001b[39mraise\u001b[39;00m \u001b[39mIOError\u001b[39;00m(\u001b[39m2\u001b[39m, \u001b[39m\"\u001b[39m\u001b[39mNo such file or directory\u001b[39m\u001b[39m\"\u001b[39m, pathname)\n\u001b[0;32m--> 702\u001b[0m generic \u001b[39m=\u001b[39m callback_func(pathnames[\u001b[39m0\u001b[39;49m], \u001b[39m*\u001b[39;49m\u001b[39m*\u001b[39;49mkwargs)\n\u001b[1;32m    703\u001b[0m \u001b[39mif\u001b[39;00m \u001b[39mlen\u001b[39m(pathnames) \u001b[39m>\u001b[39m \u001b[39m1\u001b[39m:\n\u001b[1;32m    704\u001b[0m     \u001b[39mfor\u001b[39;00m filename \u001b[39min\u001b[39;00m pathnames[\u001b[39m1\u001b[39m:]:\n",
      "File \u001b[0;32m~/miniconda3/envs/pmpnet/lib/python3.9/site-packages/decorator.py:232\u001b[0m, in \u001b[0;36mdecorate.<locals>.fun\u001b[0;34m(*args, **kw)\u001b[0m\n\u001b[1;32m    230\u001b[0m \u001b[39mif\u001b[39;00m \u001b[39mnot\u001b[39;00m kwsyntax:\n\u001b[1;32m    231\u001b[0m     args, kw \u001b[39m=\u001b[39m fix(args, kw, sig)\n\u001b[0;32m--> 232\u001b[0m \u001b[39mreturn\u001b[39;00m caller(func, \u001b[39m*\u001b[39;49m(extras \u001b[39m+\u001b[39;49m args), \u001b[39m*\u001b[39;49m\u001b[39m*\u001b[39;49mkw)\n",
      "File \u001b[0;32m~/miniconda3/envs/pmpnet/lib/python3.9/site-packages/obspy/core/util/decorator.py:156\u001b[0m, in \u001b[0;36muncompress_file\u001b[0;34m(func, filename, *args, **kwargs)\u001b[0m\n\u001b[1;32m    154\u001b[0m \u001b[39m# check if we got a compressed file or archive\u001b[39;00m\n\u001b[1;32m    155\u001b[0m obj_list \u001b[39m=\u001b[39m []\n\u001b[0;32m--> 156\u001b[0m \u001b[39mif\u001b[39;00m tarfile\u001b[39m.\u001b[39;49mis_tarfile(filename):\n\u001b[1;32m    157\u001b[0m     \u001b[39mtry\u001b[39;00m:\n\u001b[1;32m    158\u001b[0m         \u001b[39m# reading with transparent compression\u001b[39;00m\n\u001b[1;32m    159\u001b[0m         \u001b[39mwith\u001b[39;00m tarfile\u001b[39m.\u001b[39mopen(filename, \u001b[39m'\u001b[39m\u001b[39mr|*\u001b[39m\u001b[39m'\u001b[39m) \u001b[39mas\u001b[39;00m tar:\n",
      "File \u001b[0;32m~/miniconda3/envs/pmpnet/lib/python3.9/tarfile.py:2503\u001b[0m, in \u001b[0;36mis_tarfile\u001b[0;34m(name)\u001b[0m\n\u001b[1;32m   2501\u001b[0m     t \u001b[39m=\u001b[39m \u001b[39mopen\u001b[39m(fileobj\u001b[39m=\u001b[39mname)\n\u001b[1;32m   2502\u001b[0m \u001b[39melse\u001b[39;00m:\n\u001b[0;32m-> 2503\u001b[0m     t \u001b[39m=\u001b[39m \u001b[39mopen\u001b[39;49m(name)\n\u001b[1;32m   2504\u001b[0m t\u001b[39m.\u001b[39mclose()\n\u001b[1;32m   2505\u001b[0m \u001b[39mreturn\u001b[39;00m \u001b[39mTrue\u001b[39;00m\n",
      "File \u001b[0;32m~/miniconda3/envs/pmpnet/lib/python3.9/tarfile.py:1620\u001b[0m, in \u001b[0;36mTarFile.open\u001b[0;34m(cls, name, mode, fileobj, bufsize, **kwargs)\u001b[0m\n\u001b[1;32m   1618\u001b[0m     saved_pos \u001b[39m=\u001b[39m fileobj\u001b[39m.\u001b[39mtell()\n\u001b[1;32m   1619\u001b[0m \u001b[39mtry\u001b[39;00m:\n\u001b[0;32m-> 1620\u001b[0m     \u001b[39mreturn\u001b[39;00m func(name, \u001b[39m\"\u001b[39;49m\u001b[39mr\u001b[39;49m\u001b[39m\"\u001b[39;49m, fileobj, \u001b[39m*\u001b[39;49m\u001b[39m*\u001b[39;49mkwargs)\n\u001b[1;32m   1621\u001b[0m \u001b[39mexcept\u001b[39;00m (ReadError, CompressionError):\n\u001b[1;32m   1622\u001b[0m     \u001b[39mif\u001b[39;00m fileobj \u001b[39mis\u001b[39;00m \u001b[39mnot\u001b[39;00m \u001b[39mNone\u001b[39;00m:\n",
      "File \u001b[0;32m~/miniconda3/envs/pmpnet/lib/python3.9/tarfile.py:1668\u001b[0m, in \u001b[0;36mTarFile.taropen\u001b[0;34m(cls, name, mode, fileobj, **kwargs)\u001b[0m\n\u001b[1;32m   1666\u001b[0m \u001b[39mif\u001b[39;00m mode \u001b[39mnot\u001b[39;00m \u001b[39min\u001b[39;00m (\u001b[39m\"\u001b[39m\u001b[39mr\u001b[39m\u001b[39m\"\u001b[39m, \u001b[39m\"\u001b[39m\u001b[39ma\u001b[39m\u001b[39m\"\u001b[39m, \u001b[39m\"\u001b[39m\u001b[39mw\u001b[39m\u001b[39m\"\u001b[39m, \u001b[39m\"\u001b[39m\u001b[39mx\u001b[39m\u001b[39m\"\u001b[39m):\n\u001b[1;32m   1667\u001b[0m     \u001b[39mraise\u001b[39;00m \u001b[39mValueError\u001b[39;00m(\u001b[39m\"\u001b[39m\u001b[39mmode must be \u001b[39m\u001b[39m'\u001b[39m\u001b[39mr\u001b[39m\u001b[39m'\u001b[39m\u001b[39m, \u001b[39m\u001b[39m'\u001b[39m\u001b[39ma\u001b[39m\u001b[39m'\u001b[39m\u001b[39m, \u001b[39m\u001b[39m'\u001b[39m\u001b[39mw\u001b[39m\u001b[39m'\u001b[39m\u001b[39m or \u001b[39m\u001b[39m'\u001b[39m\u001b[39mx\u001b[39m\u001b[39m'\u001b[39m\u001b[39m\"\u001b[39m)\n\u001b[0;32m-> 1668\u001b[0m \u001b[39mreturn\u001b[39;00m \u001b[39mcls\u001b[39;49m(name, mode, fileobj, \u001b[39m*\u001b[39;49m\u001b[39m*\u001b[39;49mkwargs)\n",
      "File \u001b[0;32m~/miniconda3/envs/pmpnet/lib/python3.9/tarfile.py:1483\u001b[0m, in \u001b[0;36mTarFile.__init__\u001b[0;34m(self, name, mode, fileobj, format, tarinfo, dereference, ignore_zeros, encoding, errors, pax_headers, debug, errorlevel, copybufsize)\u001b[0m\n\u001b[1;32m   1481\u001b[0m         \u001b[39mself\u001b[39m\u001b[39m.\u001b[39mmode \u001b[39m=\u001b[39m \u001b[39m\"\u001b[39m\u001b[39mw\u001b[39m\u001b[39m\"\u001b[39m\n\u001b[1;32m   1482\u001b[0m         \u001b[39mself\u001b[39m\u001b[39m.\u001b[39m_mode \u001b[39m=\u001b[39m \u001b[39m\"\u001b[39m\u001b[39mwb\u001b[39m\u001b[39m\"\u001b[39m\n\u001b[0;32m-> 1483\u001b[0m     fileobj \u001b[39m=\u001b[39m bltn_open(name, \u001b[39mself\u001b[39;49m\u001b[39m.\u001b[39;49m_mode)\n\u001b[1;32m   1484\u001b[0m     \u001b[39mself\u001b[39m\u001b[39m.\u001b[39m_extfileobj \u001b[39m=\u001b[39m \u001b[39mFalse\u001b[39;00m\n\u001b[1;32m   1485\u001b[0m \u001b[39melse\u001b[39;00m:\n",
      "\u001b[0;31mKeyboardInterrupt\u001b[0m: "
     ]
    },
    {
     "data": {
      "text/plain": [
       "<Figure size 1000x1000 with 0 Axes>"
      ]
     },
     "metadata": {},
     "output_type": "display_data"
    }
   ],
   "source": [
    "file = open(f\"{ddir}/progression-8.5.info\", \"r\")\n",
    "evt = file.read()\n",
    "file.close()\n",
    "switch1 = True\n",
    "model = TauPyModel(f\"hk.npz\")\n",
    "\n",
    "tb= -1.5\n",
    "ta = 12\n",
    "\n",
    "\n",
    "\n",
    "ascale =1\n",
    "events = os.listdir(data_sac)\n",
    "for ev in events:\n",
    "    \n",
    "    if ev != evt and switch1 == True:\n",
    "            continue\n",
    "    switch1 = False\n",
    "    fig = plt.figure(figsize=(10,10))\n",
    "    plt.subplots_adjust(wspace=0.1,hspace=0.01)\n",
    "    file = open(\"./progression-8.5.info\", \"w\")\n",
    "    file.write(f\"{ev}\")\n",
    "    file.close()\n",
    "    \n",
    "    try:\n",
    "        handpickP = pd.read_csv(f'{data_sac}/{ev}/judge/handpickP.info',delim_whitespace=True,names=[\"evt\",\"sta\", \"Tp\",\"TsPmP\",\"TsPn\"], header = None)\n",
    "    except: \n",
    "        print(\"no handpickP for event: {}\".format(ev))\n",
    "        continue\n",
    "    evdp = []\n",
    "    rdist = []\n",
    "\n",
    "    \n",
    "    \n",
    "    print(ev)\n",
    "    for i,sta in enumerate(handpickP[\"sta\"]):\n",
    "        st = obspy.read(f\"{data_sac}/{ev}/{sta}*Z.SAC.bp\")\n",
    "        sachd = st[0].stats.sac\n",
    "        evdp = np.append(evdp, sachd[\"evdp\"])\n",
    "        distaz = client.distaz(sachd[\"stla\"], sachd[\"stlo\"], sachd[\"evla\"], sachd[\"evlo\"])\n",
    "        gcarc = distaz['distance']\n",
    "        rdist = np.append(rdist, gcarc)\n",
    "        #print(st[0])\n",
    "    \n",
    "    handpickP[\"evdp\"] = evdp\n",
    "    handpickP[\"rdist\"] = rdist\n",
    "    handpickP.sort_values(by=['rdist'], inplace = True)\n",
    "    handpickP = handpickP.reset_index(drop=True)\n",
    "    #print(handpickP)\n",
    "    \n",
    "    for i,sta in enumerate(handpickP[\"sta\"]):\n",
    "        if i == 0:\n",
    "            st = obspy.read(f\"{data_sac}/{ev}/{sta}*Z.SAC.bp\")\n",
    "        else:\n",
    "            st += obspy.read(f\"{data_sac}/{ev}/{sta}*Z.SAC.bp\")\n",
    "    \n",
    "    t = np.arange(tb, ta, st[0].stats.delta)\n",
    "    #print(handpickP)\n",
    "    #print(st)\n",
    "    TS_array = []\n",
    "    for i, trace in enumerate(st):\n",
    "        #print(trace)\n",
    "        ax = fig.add_subplot(len(st), 1, i+1)\n",
    "        Tp = handpickP[\"Tp\"][i]\n",
    "        shift1 = trace.stats.sac.b\n",
    "        shift2 = trace.stats.sac.o\n",
    "        shift3 = (Tp+shift2)\n",
    "        #print(shift3)\n",
    "        \n",
    "        w1 = int((tb-shift1+shift3)/trace.stats.delta) \n",
    "        w2 = int((ta-shift1+shift3)/trace.stats.delta)\n",
    "        \n",
    "        ax.plot(t,ascale*trace.data[w1:w2]/np.max(np.abs(trace.data[w1:w2])),linewidth=0.5)\n",
    "        ax.text(tb-2, 0, \"{} {}\".format(i, handpickP[\"sta\"][i]))\n",
    "        ax.text(ta, 0, \"{}\".format(handpickP[\"rdist\"][i]))\n",
    "        plt.axvline(x= 0, color=\"pink\", alpha=0.5, linewidth=2)\n",
    "        \n",
    "        sdep = handpickP[\"evdp\"][i]\n",
    "        radist = handpickP[\"rdist\"][i]\n",
    "        arrival_PvmP = model.get_ray_paths(source_depth_in_km=sdep, distance_in_degree=radist, phase_list=['PvmP'])\n",
    "        TPvmP = arrival_PvmP[0].time +shift2\n",
    "        plt.axvline(x= TPvmP, color=\"yellow\", alpha=0.5, linewidth=2)\n",
    "        \n",
    "        arrival_S = model.get_ray_paths(source_depth_in_km=sdep, distance_in_degree=radist, phase_list=['s', 'S'])\n",
    "        TS = arrival_S[0].time +shift2\n",
    "        plt.axvline(x= TS, color=\"red\", alpha=0.5, linewidth=2)\n",
    "        Ts_save = f\"{arrival_S[0].time:.3g}\"\n",
    "        TS_array = np.append(TS_array, Ts_save)\n",
    "        \n",
    "        TsPmP = handpickP[\"TsPmP\"][i]+shift2\n",
    "        plt.axvline(x= TsPmP, color=\"green\", alpha=0.5, linewidth=2)\n",
    "        TsPn = handpickP[\"TsPn\"][i]\n",
    "        if TsPn != \"nan\":\n",
    "            TsPn = handpickP[\"TsPn\"][i]+shift2\n",
    "            plt.axvline(x= TsPn, color=\"cyan\", alpha=0.5, linewidth=2)\n",
    "    #plt.tight_layout()\n",
    "    \n",
    "        ax.axis('off')\n",
    "    handpickP[\"Ts\"] = TS_array\n",
    "    #plt.tight_layout()\n",
    "    plt.show()\n",
    "    quality = input(\"save or skip\")\n",
    "    if quality != 'skip':\n",
    "        saves = [int(x) for x in quality.split()]\n",
    "        print(saves)\n",
    "        handpickP = handpickP.iloc[saves].reset_index(drop=True)\n",
    "        file = open(\"judge/combined.txt\", \"a\")\n",
    "        \n",
    "        for i, row in handpickP.iterrows():\n",
    "            #print(index)\n",
    "            event = handpickP[\"evt\"][i]\n",
    "            station = handpickP[\"sta\"][i]\n",
    "            Tp = handpickP[\"Tp\"][i]\n",
    "            TsPmP = handpickP[\"TsPmP\"][i]\n",
    "            TsPn = handpickP[\"TsPn\"][i]\n",
    "            Ts = handpickP[\"Ts\"][i]\n",
    "            file.write(\"{} {} {} {} {} {}\\n\".format(event, station, Tp, TsPmP, TsPn, Ts))\n",
    "        file.close()\n",
    "    plt.close()\n",
    "    clear_output(wait=True)\n",
    "    \n",
    "    "
   ]
  },
  {
   "cell_type": "code",
   "execution_count": null,
   "id": "def2d980",
   "metadata": {},
   "outputs": [],
   "source": []
  }
 ],
 "metadata": {
  "kernelspec": {
   "display_name": "Python 3 (ipykernel)",
   "language": "python",
   "name": "python3"
  },
  "language_info": {
   "codemirror_mode": {
    "name": "ipython",
    "version": 3
   },
   "file_extension": ".py",
   "mimetype": "text/x-python",
   "name": "python",
   "nbconvert_exporter": "python",
   "pygments_lexer": "ipython3",
   "version": "3.9.16"
  }
 },
 "nbformat": 4,
 "nbformat_minor": 5
}
